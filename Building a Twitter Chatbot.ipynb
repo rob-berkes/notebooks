{
 "cells": [
  {
   "cell_type": "markdown",
   "metadata": {},
   "source": [
    "I have a Twitter account that I have not used in quite awhile. I've wanted to write a chatbot that would do some posting for me and finally have produced the script below, taken nearly verbatim from twiboozer's GitHub documentation, it generates Markov Chains of text based off your timeline. "
   ]
  },
  {
   "cell_type": "markdown",
   "metadata": {},
   "source": [
    "<blockquote class=\"twitter-tweet\" lang=\"en\"><p lang=\"en\" dir=\"ltr\">Been finding the time to tweet to hard, will let my friend Markov take over for awhile. ;-)</p>&mdash; Rob Berkes (@KosmikDebris) <a href=\"https://twitter.com/KosmikDebris/status/626544259311648770\">July 30, 2015</a></blockquote>\n",
    "<script async src=\"//platform.twitter.com/widgets.js\" charset=\"utf-8\"></script>"
   ]
  },
  {
   "cell_type": "markdown",
   "metadata": {},
   "source": [
    "(thanks https://github.com/romansalin/twiboozer)"
   ]
  },
  {
   "cell_type": "code",
   "execution_count": null,
   "metadata": {
    "collapsed": false
   },
   "outputs": [],
   "source": [
    "from twiboozer import TwiBot, MarkovChain\n",
    "\n",
    "\n",
    "OAUTH_TOKEN = ''\n",
    "OAUTH_SECRET = ''\n",
    "CONSUMER_KEY = ''\n",
    "CONSUMER_SECRET = ''\n",
    "twibot = TwiBot(oauth_token=OAUTH_TOKEN, oauth_secret=OAUTH_SECRET, \n",
    "                consumer_key=CONSUMER_KEY, consumer_secret=CONSUMER_SECRET)\n",
    "tweets = twibot.get_timeline(count=500, include_rts=True, include_replies=False)\n",
    "\n",
    "mc = MarkovChain()\n",
    "mc.generate_database(tweets.decode())\n",
    "tweet = mc.generate_string()\n",
    "\n",
    "\n",
    "twibot.post_tweet(tweet)"
   ]
  },
  {
   "cell_type": "markdown",
   "metadata": {},
   "source": [
    "Just fill in Token, Keys, and Secrets with info from an App you create in your Twitter accounts Developer page (make sure permissions are read AND write), and you're set to go.  "
   ]
  },
  {
   "cell_type": "markdown",
   "metadata": {},
   "source": [
    "After handing over posting privileges, it's very first tweet to my timeline was, well a bit creepy I have to admit ... "
   ]
  },
  {
   "cell_type": "markdown",
   "metadata": {
    "collapsed": false
   },
   "source": [
    "<blockquote class=\"twitter-tweet\" lang=\"en\"><p lang=\"en\" dir=\"ltr\">thanks.</p>&mdash; Rob Berkes (@KosmikDebris) <a href=\"https://twitter.com/KosmikDebris/status/626545937343578112\">July 30, 2015</a></blockquote>\n",
    "<script async src=\"//platform.twitter.com/widgets.js\" charset=\"utf-8\"></script>"
   ]
  },
  {
   "cell_type": "markdown",
   "metadata": {
    "collapsed": true
   },
   "source": [
    "More typical, of course are tweets like these ..."
   ]
  },
  {
   "cell_type": "markdown",
   "metadata": {},
   "source": [
    "<blockquote class=\"twitter-tweet\" lang=\"en\"><p lang=\"en\" dir=\"ltr\">Amnesty International (AI) receives suppo from Garett I&#39;d love Mordin :).</p>&mdash; Rob Berkes (@KosmikDebris) <a href=\"https://twitter.com/KosmikDebris/status/626770639081189376\">July 30, 2015</a></blockquote>\n",
    "<script async src=\"//platform.twitter.com/widgets.js\" charset=\"utf-8\"></script>"
   ]
  },
  {
   "cell_type": "markdown",
   "metadata": {},
   "source": [
    "Now, it sounds a bit nonsensical at this point. I'd like to work on optimizing the Markov chain, see if I can use other Python Markov Chain modules with twiboozer to produce better results, for example.  For example, I'd like it to sound more like me, of course. To accomplish this, I'd need the sample texts, the corpus, to be samples of my own writing, say my own Twitter or Facebook feed, instead of the feed of other users.\n",
    "\n",
    "Thankfully, both Twitter and Facebook now make downloading your own archive of posts fairly easy.  For parsing out your own messages and saving them into a text file, I used the BeautifulSoup4 web scraping library..."
   ]
  },
  {
   "cell_type": "code",
   "execution_count": null,
   "metadata": {
    "collapsed": true
   },
   "outputs": [],
   "source": [
    "#This script creates a corpus, or word dictionary, from my Facebook wall of posts.  It can then be used to build as\n",
    "#needed the bigrams, trigams, and sentences for a Markov chain\n",
    "from bs4 import BeautifulSoup\n",
    "ifp=open('/home/rob/Dropbox/Data/html/wall.htm','r')\n",
    "soup=BeautifulSoup(ifp,\"lxml\")\n",
    "comments=soup.find_all(\"div\",class_=\"comment\")\n",
    "ifp.close()\n",
    "ofp=open('/home/rob/Dropbox/Data/corpus.facebook','w')\n",
    "for comment in comments:\n",
    "    ofp.write(comment.string)\n",
    "ofp.close()"
   ]
  },
  {
   "cell_type": "markdown",
   "metadata": {},
   "source": [
    "The Markovify library will allow us to create Markov chains using file pointers, allowing us to use our Facebook corpus as below.."
   ]
  },
  {
   "cell_type": "code",
   "execution_count": null,
   "metadata": {
    "collapsed": true
   },
   "outputs": [],
   "source": [
    "#now see https://github.com/jsvine/markovify\n",
    "import markovify\n",
    "\n",
    "# Get raw text as string.\n",
    "with open(\"/home/rob/Dropbox/Data/corpus.facebook\") as f:\n",
    "    text = f.read()\n",
    "    \n",
    "# Build the model.\n",
    "text_model = markovify.Text(text)\n",
    "\n",
    "# Print three randomly-generated sentences of no more than 140 characters\n",
    "i=0\n",
    "while i<3:\n",
    "    NEWSENT=text_model.make_short_sentence(140)\n",
    "    if NEWSENT != \"NONE\":\n",
    "        i+=1\n",
    "        print(NEWSENT)"
   ]
  },
  {
   "cell_type": "markdown",
   "metadata": {},
   "source": [
    "Putting this all together, we have a script that combines our own word style with the last 500 tweets in our timeline to create sentences  based both on our own style and the latest events in our newsfeed!"
   ]
  },
  {
   "cell_type": "code",
   "execution_count": null,
   "metadata": {
    "collapsed": true
   },
   "outputs": [],
   "source": [
    "import markovify\n",
    "from twiboozer import TwiBot\n",
    "\n",
    "\n",
    "OAUTH_TOKEN = ''\n",
    "OAUTH_SECRET = ''\n",
    "CONSUMER_KEY = ''\n",
    "CONSUMER_SECRET = ''\n",
    "\n",
    "twibot = TwiBot(oauth_token=OAUTH_TOKEN, oauth_secret=OAUTH_SECRET, \n",
    "                consumer_key=CONSUMER_KEY, consumer_secret=CONSUMER_SECRET)\n",
    "tweets = twibot.get_timeline(count=500, include_rts=True, include_replies=False)\n",
    "\n",
    "TWEETS=tweets.decode()\n",
    "\n",
    "with open(\"/home/rob/Dropbox/Data/corpus.facebook\") as f:\n",
    "    text = f.read()\n",
    "    \n",
    "text+=TWEETS\n",
    "text_model = markovify.Text(text)\n",
    "\n",
    "NEWSENT=text_model.make_short_sentence(140)\n",
    "twibot.post_tweet(NEWSENT)"
   ]
  },
  {
   "cell_type": "markdown",
   "metadata": {},
   "source": [
    "Running our new script through both Facebook and Twitter now, our Tweets now look a bit more like complete sentences with an intriquing amount of structure. "
   ]
  },
  {
   "cell_type": "markdown",
   "metadata": {},
   "source": [
    "<blockquote class=\"twitter-tweet\" lang=\"en\"><p lang=\"en\" dir=\"ltr\">And lucky me, one of my head....McDonald&#39;s tells worker she can ONLY be paid with a narcoleptic pilot.</p>&mdash; Rob Berkes (@KosmikDebris) <a href=\"https://twitter.com/KosmikDebris/status/626885540952932352\">July 30, 2015</a></blockquote>\n",
    "<script async src=\"//platform.twitter.com/widgets.js\" charset=\"utf-8\"></script>"
   ]
  },
  {
   "cell_type": "markdown",
   "metadata": {},
   "source": [
    "or\n",
    "<blockquote class=\"twitter-tweet\" lang=\"en\"><p lang=\"en\" dir=\"ltr\">Visual Basic You’ll shoot yourself in the appendage which holds the gun into the Amazon App store!</p>&mdash; Rob Berkes (@KosmikDebris) <a href=\"https://twitter.com/KosmikDebris/status/626885105257070597\">July 30, 2015</a></blockquote>\n",
    "<script async src=\"//platform.twitter.com/widgets.js\" charset=\"utf-8\"></script>"
   ]
  }
 ],
 "metadata": {
  "kernelspec": {
   "display_name": "Python 3",
   "language": "python",
   "name": "python3"
  },
  "language_info": {
   "codemirror_mode": {
    "name": "ipython",
    "version": 3
   },
   "file_extension": ".py",
   "mimetype": "text/x-python",
   "name": "python",
   "nbconvert_exporter": "python",
   "pygments_lexer": "ipython3",
   "version": "3.4.2"
  }
 },
 "nbformat": 4,
 "nbformat_minor": 0
}
